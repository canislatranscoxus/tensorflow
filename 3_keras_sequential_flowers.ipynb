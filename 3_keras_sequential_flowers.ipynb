{
  "nbformat": 4,
  "nbformat_minor": 0,
  "metadata": {
    "colab": {
      "name": "3_keras_sequential_flowers.ipynb",
      "provenance": [],
      "authorship_tag": "ABX9TyM6Mp1o8NDd7ILrqXO8THT8",
      "include_colab_link": true
    },
    "kernelspec": {
      "name": "python3",
      "display_name": "Python 3"
    }
  },
  "cells": [
    {
      "cell_type": "markdown",
      "metadata": {
        "id": "view-in-github",
        "colab_type": "text"
      },
      "source": [
        "<a href=\"https://colab.research.google.com/github/canislatranscoxus/tensorflow/blob/master/3_keras_sequential_flowers.ipynb\" target=\"_parent\"><img src=\"https://colab.research.google.com/assets/colab-badge.svg\" alt=\"Open In Colab\"/></a>"
      ]
    },
    {
      "cell_type": "markdown",
      "metadata": {
        "id": "6HIUIKBToVJw",
        "colab_type": "text"
      },
      "source": [
        "#Introducing the Keras Sequential API\n",
        "\n",
        "## flowers classification\n",
        "\n",
        "\n",
        "https://github.com/GoogleCloudPlatform/training-data-analyst/blob/master/courses/machine_learning/deepdive2/introduction_to_tensorflow/solutions/3_keras_sequential_api.ipynb\n"
      ]
    },
    {
      "cell_type": "code",
      "metadata": {
        "id": "UJmX7mNVxFsf",
        "colab_type": "code",
        "colab": {}
      },
      "source": [
        ""
      ],
      "execution_count": null,
      "outputs": []
    },
    {
      "cell_type": "markdown",
      "metadata": {
        "id": "HAndx7JHooDW",
        "colab_type": "text"
      },
      "source": [
        "## load data"
      ]
    },
    {
      "cell_type": "code",
      "metadata": {
        "id": "OPsYlrpdohfb",
        "colab_type": "code",
        "colab": {}
      },
      "source": [
        ""
      ],
      "execution_count": null,
      "outputs": []
    },
    {
      "cell_type": "markdown",
      "metadata": {
        "id": "waBSx2_corZA",
        "colab_type": "text"
      },
      "source": [
        "##remove unwanted columns"
      ]
    },
    {
      "cell_type": "code",
      "metadata": {
        "id": "SzJNSqbMohj_",
        "colab_type": "code",
        "colab": {}
      },
      "source": [
        ""
      ],
      "execution_count": null,
      "outputs": []
    },
    {
      "cell_type": "markdown",
      "metadata": {
        "id": "bPxZUzpkoxqi",
        "colab_type": "text"
      },
      "source": [
        "## crate features"
      ]
    },
    {
      "cell_type": "code",
      "metadata": {
        "id": "U2PHEyekohnI",
        "colab_type": "code",
        "colab": {}
      },
      "source": [
        ""
      ],
      "execution_count": null,
      "outputs": []
    },
    {
      "cell_type": "markdown",
      "metadata": {
        "id": "XfMHG8GKo1-6",
        "colab_type": "text"
      },
      "source": [
        "## crate model"
      ]
    },
    {
      "cell_type": "code",
      "metadata": {
        "id": "BmYS_3hVohp8",
        "colab_type": "code",
        "colab": {}
      },
      "source": [
        ""
      ],
      "execution_count": null,
      "outputs": []
    },
    {
      "cell_type": "markdown",
      "metadata": {
        "id": "Bc9-S-J9o5h6",
        "colab_type": "text"
      },
      "source": [
        "## train model"
      ]
    },
    {
      "cell_type": "code",
      "metadata": {
        "id": "yMxG0Lkoohi_",
        "colab_type": "code",
        "colab": {}
      },
      "source": [
        ""
      ],
      "execution_count": null,
      "outputs": []
    },
    {
      "cell_type": "markdown",
      "metadata": {
        "id": "6dRvsX5ao8il",
        "colab_type": "text"
      },
      "source": [
        "## save model to file - serialization"
      ]
    },
    {
      "cell_type": "markdown",
      "metadata": {
        "id": "G42mTk5Lo8fo",
        "colab_type": "text"
      },
      "source": [
        ""
      ]
    },
    {
      "cell_type": "markdown",
      "metadata": {
        "id": "tvArssYdpDNi",
        "colab_type": "text"
      },
      "source": [
        "## load model from file"
      ]
    },
    {
      "cell_type": "code",
      "metadata": {
        "id": "P8n6_CNJoheJ",
        "colab_type": "code",
        "colab": {}
      },
      "source": [
        ""
      ],
      "execution_count": null,
      "outputs": []
    },
    {
      "cell_type": "markdown",
      "metadata": {
        "id": "Kf10pmeRpGaI",
        "colab_type": "text"
      },
      "source": [
        "## make predictions"
      ]
    },
    {
      "cell_type": "code",
      "metadata": {
        "id": "gfLaYRKCpIXg",
        "colab_type": "code",
        "colab": {}
      },
      "source": [
        ""
      ],
      "execution_count": null,
      "outputs": []
    },
    {
      "cell_type": "markdown",
      "metadata": {
        "id": "WlaM2kDApME-",
        "colab_type": "text"
      },
      "source": [
        "## see model performance"
      ]
    },
    {
      "cell_type": "code",
      "metadata": {
        "id": "1bBsSSSrpRiA",
        "colab_type": "code",
        "colab": {}
      },
      "source": [
        ""
      ],
      "execution_count": null,
      "outputs": []
    }
  ]
}